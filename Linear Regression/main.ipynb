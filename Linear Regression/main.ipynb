{
  "nbformat": 4,
  "nbformat_minor": 0,
  "metadata": {
    "colab": {
      "name": "main",
      "provenance": [],
      "collapsed_sections": []
    },
    "kernelspec": {
      "name": "python3",
      "display_name": "Python 3"
    },
    "language_info": {
      "name": "python"
    }
  },
  "cells": [
    {
      "cell_type": "code",
      "metadata": {
        "id": "VHrNNqxyarCP"
      },
      "source": [
        "#Trong phần này, tôi sẽ chọn một ví dụ đơn giản về việc giải bài toán Linear Regression trong Python. Tôi cũng sẽ so sánh nghiệm của bài toán khi giải theo phương trình (5)\n",
        "#và nghiệm tìm được khi dùng thư viện scikit-learn của Python. (Đây là thư viện Machine Learning được sử dụng rộng rãi trong Python). Trong ví dụ này, dữ liệu đầu vào chỉ có 1 giá trị \n",
        "#(1 chiều) để thuận tiện cho việc minh hoạ trong mặt phẳng.\n",
        "\n",
        "#Chúng ta có 1 bảng dữ liệu về chiều cao và cân nặng của 15 người như dưới đây:\n",
        "#Chiều cao (cm) \tCân nặng (kg)\n",
        "#   147 \t            49 \n",
        "#   150 \t            50\n",
        "#   153 \t            51\n",
        "#   155 \t            52 \n",
        "#   158 \t            54\n",
        "#   160 \t            56\n",
        "#   163 \t            58\n",
        "#   165 \t            59 \t  \t \n",
        "\n",
        "#Bài toán đặt ra là: liệu có thể dự đoán cân nặng của một người dựa vào chiều cao của họ không? (Trên thực tế, tất nhiên là không, vì cân nặng còn phụ thuộc vào nhiều yếu tố khác nữa,\n",
        "#thể tích chẳng hạn). Vì blog này nói về các thuật toán Machine Learning đơn giản nên tôi sẽ giả sử rằng chúng ta có thể dự đoán được.\n",
        "\n",
        "#Chúng ta có thể thấy là cân nặng sẽ tỉ lệ thuận với chiều cao (càng cao càng nặng), nên có thể sử dụng Linear Regression model cho việc dự đoán này. Để kiểm tra độ chính xác của model tìm được,\n",
        "#chúng ta sẽ giữ lại cột 155 và 160 cm để kiểm thử, các cột còn lại được sử dụng để huấn luyện (train) model."
      ],
      "execution_count": null,
      "outputs": []
    },
    {
      "cell_type": "code",
      "metadata": {
        "id": "-TmF6fibeoqK"
      },
      "source": [
        "import numpy as np \n",
        "import matplotlib.pyplot as pltain"
      ],
      "execution_count": 1,
      "outputs": []
    },
    {
      "cell_type": "code",
      "metadata": {
        "colab": {
          "base_uri": "https://localhost:8080/",
          "height": 282
        },
        "id": "2WjontCxexcP",
        "outputId": "32217759-eb6c-47d7-cc61-092a6ecff014"
      },
      "source": [
        "# Input X đầu vào là data chiều cao tương ứng với output y là cân n\n",
        "X = np.array([[147, 150, 153, 158, 163, 165, 168, 170, 173, 175, 178, 180, 183]]).T\n",
        "y = np.array([[ 49, 50, 51,  54, 58, 59, 60, 62, 63, 64, 66, 67, 68]]).T\n",
        "# Biểu diễn trên hệ tọa độ\n",
        "plt.plot(X, y, 'ro')"
      ],
      "execution_count": 2,
      "outputs": [
        {
          "output_type": "execute_result",
          "data": {
            "text/plain": [
              "[<matplotlib.lines.Line2D at 0x7f6ad532d7d0>]"
            ]
          },
          "metadata": {},
          "execution_count": 2
        },
        {
          "output_type": "display_data",
          "data": {
            "image/png": "[encoded data removed]",
            "text/plain": [
              "<Figure size 432x288 with 1 Axes>"
            ]
          },
          "metadata": {
            "needs_background": "light"
          }
        }
      ]
    },
    {
      "cell_type": "code",
      "metadata": {
        "id": "6dO8gViae8hd",
        "colab": {
          "base_uri": "https://localhost:8080/"
        },
        "outputId": "553b0539-7e76-43e5-d17e-690adc4af146"
      },
      "source": [
        "# Xây dựng hàm Cân nặng = w1*chiều cao + w0\n",
        "# Trong đó w1 w0 là các trọng số\n",
        "# Xây dựng ma trận dữ liệu đầu vào input\n",
        "one = np.ones((X.shape[0], 1))\n",
        "Xbar = np.concatenate((one, X), axis = 1)\n",
        "# Tính ma trận vuông A\n",
        "A = np.dot(Xbar.T,Xbar)\n",
        "# Tính ma trận b\n",
        "b = np.dot(Xbar.T, y)\n",
        "# Tính ma trận w cũng như là nghiệm của hàm sai số\n",
        "w = np.dot(np.linalg.pinv(A),b)\n",
        "w"
      ],
      "execution_count": 15,
      "outputs": [
        {
          "output_type": "execute_result",
          "data": {
            "text/plain": [
              "array([[-33.73541021],\n",
              "       [  0.55920496]])"
            ]
          },
          "metadata": {},
          "execution_count": 15
        }
      ]
    },
    {
      "cell_type": "code",
      "metadata": {
        "colab": {
          "base_uri": "https://localhost:8080/"
        },
        "id": "xlCO2MfnYjxQ",
        "outputId": "f46fc143-c29f-4ca1-b522-e53e5cd265ee"
      },
      "source": [
        "# Khi đó\n",
        "w0 = w[0][0]\n",
        "w1 = w[1][0]\n",
        "# Hàm số y cần tìm\n",
        "x0 = X[1]\n",
        "y0 = w1*x0+w0\n",
        "print('Người có chiều cao: '+str(x0)+'kg sẽ có cân nặng: '+str(y0)+'cm')"
      ],
      "execution_count": 20,
      "outputs": [
        {
          "output_type": "stream",
          "name": "stdout",
          "text": [
            "Người có chiều cao: [150]kg sẽ có cân nặng: [50.14533409]cm\n"
          ]
        }
      ]
    },
    {
      "cell_type": "code",
      "metadata": {
        "colab": {
          "base_uri": "https://localhost:8080/"
        },
        "id": "6RSMP_cMZo9x",
        "outputId": "37923403-8f75-415f-c16b-77a66128c243"
      },
      "source": [
        ""
      ],
      "execution_count": 17,
      "outputs": [
        {
          "output_type": "execute_result",
          "data": {
            "text/plain": [
              "-33.735410205790714"
            ]
          },
          "metadata": {},
          "execution_count": 17
        }
      ]
    },
    {
      "cell_type": "code",
      "metadata": {
        "id": "F4so_grrZptL"
      },
      "source": [
        ""
      ],
      "execution_count": null,
      "outputs": []
    }
  ]
}